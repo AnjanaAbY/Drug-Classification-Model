{
  "nbformat": 4,
  "nbformat_minor": 0,
  "metadata": {
    "colab": {
      "provenance": [],
      "authorship_tag": "ABX9TyOxTpKAVouz/gLPr5S4DS6s",
      "include_colab_link": true
    },
    "kernelspec": {
      "name": "python3",
      "display_name": "Python 3"
    },
    "language_info": {
      "name": "python"
    }
  },
  "cells": [
    {
      "cell_type": "markdown",
      "metadata": {
        "id": "view-in-github",
        "colab_type": "text"
      },
      "source": [
        "<a href=\"https://colab.research.google.com/github/AnjanaAbY/Drug-Classification-Model/blob/main/MachineLearning_Task_2.ipynb\" target=\"_parent\"><img src=\"https://colab.research.google.com/assets/colab-badge.svg\" alt=\"Open In Colab\"/></a>"
      ]
    },
    {
      "cell_type": "markdown",
      "source": [
        "# **DRUG CLASSIFICATION MODEL**"
      ],
      "metadata": {
        "id": "w9pm947E7Uvw"
      }
    },
    {
      "cell_type": "markdown",
      "source": [
        "## **Download dataset**"
      ],
      "metadata": {
        "id": "b2YtOfpp7o0J"
      }
    },
    {
      "cell_type": "code",
      "execution_count": null,
      "metadata": {
        "colab": {
          "base_uri": "https://localhost:8080/"
        },
        "id": "BGHqISYTZrJI",
        "outputId": "2f965d25-23f4-47eb-cee9-ec26bd1c5333"
      },
      "outputs": [
        {
          "output_type": "stream",
          "name": "stdout",
          "text": [
            "--2023-12-04 12:50:02--  https://s3-api.us-geo.objectstorage.softlayer.net/cf-courses-data/CognitiveClass/ML0101ENv3/labs/drug200.csv\n",
            "Resolving s3-api.us-geo.objectstorage.softlayer.net (s3-api.us-geo.objectstorage.softlayer.net)... 67.228.254.196\n",
            "Connecting to s3-api.us-geo.objectstorage.softlayer.net (s3-api.us-geo.objectstorage.softlayer.net)|67.228.254.196|:443... connected.\n",
            "HTTP request sent, awaiting response... 200 OK\n",
            "Length: 6027 (5.9K) [text/csv]\n",
            "Saving to: ‘drug200.csv’\n",
            "\n",
            "\rdrug200.csv           0%[                    ]       0  --.-KB/s               \rdrug200.csv         100%[===================>]   5.89K  --.-KB/s    in 0s      \n",
            "\n",
            "2023-12-04 12:50:02 (2.01 GB/s) - ‘drug200.csv’ saved [6027/6027]\n",
            "\n"
          ]
        }
      ],
      "source": [
        "!wget -O drug200.csv https://s3-api.us-geo.objectstorage.softlayer.net/cf-courses-data/CognitiveClass/ML0101ENv3/labs/drug200.csv"
      ]
    },
    {
      "cell_type": "markdown",
      "source": [
        "###  **Data Loading**"
      ],
      "metadata": {
        "id": "m3G6_Rnl76-d"
      }
    },
    {
      "cell_type": "code",
      "source": [
        "#Importing basic libraries\n",
        "import numpy as np\n",
        "import pandas as pd\n",
        "import matplotlib.pyplot as plt\n",
        "import seaborn as sns\n",
        "from sklearn.model_selection import train_test_split\n",
        "from sklearn import metrics"
      ],
      "metadata": {
        "id": "YV6_VvetZx7h"
      },
      "execution_count": null,
      "outputs": []
    },
    {
      "cell_type": "markdown",
      "source": [
        "### **Additional Metrics Calculation Function**"
      ],
      "metadata": {
        "id": "UsmMSSnH5oxo"
      }
    },
    {
      "cell_type": "code",
      "source": [
        "#Accuracy and additional metrics (precision, recall, F1-score) are calculated using the function calculate_additional_metrics\n",
        "def calculate_additional_metrics(model_name, y_true, y_pred):\n",
        "    precision = metrics.precision_score(y_true, y_pred,average='weighted')\n",
        "    recall = metrics.recall_score(y_true, y_pred,average='weighted')\n",
        "    f1_score = metrics.f1_score(y_true, y_pred,average='weighted')\n",
        "\n",
        "    print(f\"{model_name} - Additional Metrics:\")\n",
        "    print(f\"Precision: {precision}\")\n",
        "    print(f\"Recall: {recall}\")\n",
        "    print(f\"F1-Score: {f1_score}\\n\")"
      ],
      "metadata": {
        "id": "ToyXW1F_PLTH"
      },
      "execution_count": null,
      "outputs": []
    },
    {
      "cell_type": "code",
      "source": [
        "#Load dataset\n",
        "ds=pd.read_csv(\"drug200.csv\")"
      ],
      "metadata": {
        "id": "-p2HGfdcZ6Ra"
      },
      "execution_count": null,
      "outputs": []
    },
    {
      "cell_type": "code",
      "source": [
        "#display dataset information\n",
        "print(\"Description:\\n\",ds.describe())"
      ],
      "metadata": {
        "colab": {
          "base_uri": "https://localhost:8080/"
        },
        "id": "SHVYqTh7aCX9",
        "outputId": "41611dd7-fe23-4762-d455-4f79e19b8381"
      },
      "execution_count": null,
      "outputs": [
        {
          "output_type": "stream",
          "name": "stdout",
          "text": [
            "Description:\n",
            "               Age     Na_to_K\n",
            "count  200.000000  200.000000\n",
            "mean    44.315000   16.084485\n",
            "std     16.544315    7.223956\n",
            "min     15.000000    6.269000\n",
            "25%     31.000000   10.445500\n",
            "50%     45.000000   13.936500\n",
            "75%     58.000000   19.380000\n",
            "max     74.000000   38.247000\n"
          ]
        }
      ]
    },
    {
      "cell_type": "markdown",
      "source": [
        "### **Data Exploration and Preprocessing**"
      ],
      "metadata": {
        "id": "JfwlGFoy8FEz"
      }
    },
    {
      "cell_type": "code",
      "source": [
        "#checking null values\n",
        "print(\"null values:\\n\",ds.isnull().sum())"
      ],
      "metadata": {
        "colab": {
          "base_uri": "https://localhost:8080/"
        },
        "id": "Cr67OQaUaL_w",
        "outputId": "03771848-0af9-48d7-bee6-eaefc3efce9d"
      },
      "execution_count": null,
      "outputs": [
        {
          "output_type": "stream",
          "name": "stdout",
          "text": [
            "null values:\n",
            " Age            0\n",
            "Sex            0\n",
            "BP             0\n",
            "Cholesterol    0\n",
            "Na_to_K        0\n",
            "Drug           0\n",
            "dtype: int64\n"
          ]
        }
      ]
    },
    {
      "cell_type": "code",
      "source": [
        "print(\"data:\\n\",ds)"
      ],
      "metadata": {
        "colab": {
          "base_uri": "https://localhost:8080/"
        },
        "id": "SZkQJXdBaXeE",
        "outputId": "5a038fdd-1a24-4a69-b420-c1c0727df435"
      },
      "execution_count": null,
      "outputs": [
        {
          "output_type": "stream",
          "name": "stdout",
          "text": [
            "data:\n",
            "      Age Sex      BP Cholesterol  Na_to_K   Drug\n",
            "0     23   F    HIGH        HIGH   25.355  drugY\n",
            "1     47   M     LOW        HIGH   13.093  drugC\n",
            "2     47   M     LOW        HIGH   10.114  drugC\n",
            "3     28   F  NORMAL        HIGH    7.798  drugX\n",
            "4     61   F     LOW        HIGH   18.043  drugY\n",
            "..   ...  ..     ...         ...      ...    ...\n",
            "195   56   F     LOW        HIGH   11.567  drugC\n",
            "196   16   M     LOW        HIGH   12.006  drugC\n",
            "197   52   M  NORMAL        HIGH    9.894  drugX\n",
            "198   23   M  NORMAL      NORMAL   14.020  drugX\n",
            "199   40   F     LOW      NORMAL   11.349  drugX\n",
            "\n",
            "[200 rows x 6 columns]\n"
          ]
        }
      ]
    },
    {
      "cell_type": "code",
      "source": [
        "#Label encoding for categorical variables\n",
        "from sklearn import preprocessing\n",
        "sex_encoding=preprocessing.LabelEncoder()\n",
        "ds['Sex'] = sex_encoding.fit_transform(ds['Sex'])\n",
        "BP_encoding=preprocessing.LabelEncoder()\n",
        "ds['BP']=BP_encoding.fit_transform(ds['BP'])\n",
        "Cholesterol_encoding=preprocessing.LabelEncoder()\n",
        "ds['Cholesterol']=Cholesterol_encoding.fit_transform(ds['Cholesterol'])\n",
        "#display the preprocessed dataset\n",
        "print(ds)"
      ],
      "metadata": {
        "colab": {
          "base_uri": "https://localhost:8080/"
        },
        "id": "ayZKKLIzbSh_",
        "outputId": "448dba49-203c-4b42-bfb4-ce705a739823"
      },
      "execution_count": null,
      "outputs": [
        {
          "output_type": "stream",
          "name": "stdout",
          "text": [
            "     Age  Sex  BP  Cholesterol  Na_to_K   Drug\n",
            "0     23    0   0            0   25.355  drugY\n",
            "1     47    1   1            0   13.093  drugC\n",
            "2     47    1   1            0   10.114  drugC\n",
            "3     28    0   2            0    7.798  drugX\n",
            "4     61    0   1            0   18.043  drugY\n",
            "..   ...  ...  ..          ...      ...    ...\n",
            "195   56    0   1            0   11.567  drugC\n",
            "196   16    1   1            0   12.006  drugC\n",
            "197   52    1   2            0    9.894  drugX\n",
            "198   23    1   2            1   14.020  drugX\n",
            "199   40    0   1            1   11.349  drugX\n",
            "\n",
            "[200 rows x 6 columns]\n"
          ]
        }
      ]
    },
    {
      "cell_type": "markdown",
      "source": [
        "### **Train Test Split and Model Training**"
      ],
      "metadata": {
        "id": "DohpfY_K6BtY"
      }
    },
    {
      "cell_type": "code",
      "source": [
        "#Split the data into features(x) and target variable(y)\n",
        "xcols=[col for col in ds.columns if col not in ['Drug']]\n",
        "x=ds[xcols]\n",
        "y=ds['Drug']"
      ],
      "metadata": {
        "id": "U4CoSFoRccYl"
      },
      "execution_count": null,
      "outputs": []
    },
    {
      "cell_type": "code",
      "source": [
        "#Spli the data into traing data and testing data\n",
        "x_train,x_test,y_train,y_test=train_test_split(x,y,test_size=0.3,random_state=3)"
      ],
      "metadata": {
        "id": "YyVMCbhwccmj"
      },
      "execution_count": null,
      "outputs": []
    },
    {
      "cell_type": "markdown",
      "source": [
        "### **Model Evaluation and Additional Metrics Calculation**"
      ],
      "metadata": {
        "id": "_hPfT_Aj6Npj"
      }
    },
    {
      "cell_type": "code",
      "source": [
        "#Train Logistic Regression Model\n",
        "from sklearn.linear_model import LogisticRegression\n",
        "logireg= LogisticRegression()\n",
        "logireg.fit(x_train, y_train)\n",
        "lr_prediction = logireg.predict(x_test)\n",
        "print(\"LogisticRegression's Accuracy: \", metrics.accuracy_score(y_test, lr_prediction))\n",
        "calculate_additional_metrics('Logistic Regression', y_test, lr_prediction)"
      ],
      "metadata": {
        "colab": {
          "base_uri": "https://localhost:8080/"
        },
        "id": "9QCBv26hm_Qk",
        "outputId": "df17f44d-601b-4bde-e332-24ef6461d3d5"
      },
      "execution_count": null,
      "outputs": [
        {
          "output_type": "stream",
          "name": "stdout",
          "text": [
            "LogisticRegression's Accuracy:  0.9\n",
            "Logistic Regression - Additional Metrics:\n",
            "Precision: 0.9082738095238094\n",
            "Recall: 0.9\n",
            "F1-Score: 0.9000264550264551\n",
            "\n"
          ]
        },
        {
          "output_type": "stream",
          "name": "stderr",
          "text": [
            "/usr/local/lib/python3.10/dist-packages/sklearn/linear_model/_logistic.py:458: ConvergenceWarning: lbfgs failed to converge (status=1):\n",
            "STOP: TOTAL NO. of ITERATIONS REACHED LIMIT.\n",
            "\n",
            "Increase the number of iterations (max_iter) or scale the data as shown in:\n",
            "    https://scikit-learn.org/stable/modules/preprocessing.html\n",
            "Please also refer to the documentation for alternative solver options:\n",
            "    https://scikit-learn.org/stable/modules/linear_model.html#logistic-regression\n",
            "  n_iter_i = _check_optimize_result(\n"
          ]
        }
      ]
    },
    {
      "cell_type": "code",
      "source": [
        "#Train Decision Tree classifier Model\n",
        "from sklearn.tree import DecisionTreeClassifier\n",
        "dectree=DecisionTreeClassifier()\n",
        "dectree.fit(x_train,y_train)\n",
        "dr_prediction=dectree.predict(x_test)\n",
        "print(\"DecisionTrees's Accuracy: \", metrics.accuracy_score(y_test, dr_prediction))\n",
        "calculate_additional_metrics('Decision Tree', y_test, dr_prediction)"
      ],
      "metadata": {
        "id": "SNV0d9DRcczW",
        "colab": {
          "base_uri": "https://localhost:8080/"
        },
        "outputId": "a93293a9-829c-44be-e59f-f45673c4b381"
      },
      "execution_count": null,
      "outputs": [
        {
          "output_type": "stream",
          "name": "stdout",
          "text": [
            "DecisionTrees's Accuracy:  0.9833333333333333\n",
            "Decision Tree - Additional Metrics:\n",
            "Precision: 0.9840579710144927\n",
            "Recall: 0.9833333333333333\n",
            "F1-Score: 0.9833152664859981\n",
            "\n"
          ]
        }
      ]
    },
    {
      "cell_type": "code",
      "source": [
        "#Training Random Forest Model\n",
        "from sklearn.ensemble import RandomForestClassifier\n",
        "ranforest = RandomForestClassifier()\n",
        "ranforest.fit(x_train, y_train)\n",
        "rf_prediction= ranforest.predict(x_test)\n",
        "print(\"Random Forest's Accuracy:\", metrics.accuracy_score(y_test, rf_prediction))\n",
        "calculate_additional_metrics('Random Forest', y_test, rf_prediction)"
      ],
      "metadata": {
        "colab": {
          "base_uri": "https://localhost:8080/"
        },
        "id": "nMQXbfD7XRzF",
        "outputId": "ab1f0c28-a932-4e49-abfa-5c854fe61dcf"
      },
      "execution_count": null,
      "outputs": [
        {
          "output_type": "stream",
          "name": "stdout",
          "text": [
            "Random Forest's Accuracy: 0.9833333333333333\n",
            "Random Forest - Additional Metrics:\n",
            "Precision: 0.9840579710144927\n",
            "Recall: 0.9833333333333333\n",
            "F1-Score: 0.9833152664859981\n",
            "\n"
          ]
        }
      ]
    },
    {
      "cell_type": "code",
      "source": [
        "#Training KNN Model\n",
        "from sklearn.neighbors import KNeighborsClassifier\n",
        "knn = KNeighborsClassifier()\n",
        "knn.fit(x_train, y_train)\n",
        "knn_prediction= knn.predict(x_test)\n",
        "print(\"KNN's Accuracy:\", metrics.accuracy_score(y_test, knn_prediction))\n",
        "calculate_additional_metrics('KNN', y_test, knn_prediction)"
      ],
      "metadata": {
        "colab": {
          "base_uri": "https://localhost:8080/"
        },
        "id": "tvKyDcJuXY01",
        "outputId": "2a9df310-c7ca-485d-e7b2-4bde83d7e2dc"
      },
      "execution_count": null,
      "outputs": [
        {
          "output_type": "stream",
          "name": "stdout",
          "text": [
            "KNN's Accuracy: 0.6333333333333333\n",
            "KNN - Additional Metrics:\n",
            "Precision: 0.7005698005698006\n",
            "Recall: 0.6333333333333333\n",
            "F1-Score: 0.6444670280036134\n",
            "\n"
          ]
        }
      ]
    },
    {
      "cell_type": "code",
      "source": [
        "#Training SVM model\n",
        "from sklearn.svm import SVC\n",
        "svm= SVC()\n",
        "svm.fit(x_train, y_train)\n",
        "svm_prediction= svm.predict(x_test)\n",
        "print(\"SVM's Accuracy:\", metrics.accuracy_score(y_test, svm_prediction))\n",
        "calculate_additional_metrics('SVM', y_test, svm_prediction)"
      ],
      "metadata": {
        "colab": {
          "base_uri": "https://localhost:8080/"
        },
        "id": "n1RsDF6xowgn",
        "outputId": "4c0b05d6-283f-4f5c-f3da-abcf16ce00d6"
      },
      "execution_count": null,
      "outputs": [
        {
          "output_type": "stream",
          "name": "stdout",
          "text": [
            "SVM's Accuracy: 0.7\n",
            "SVM - Additional Metrics:\n",
            "Precision: 0.5226666666666666\n",
            "Recall: 0.7\n",
            "F1-Score: 0.5932624113475177\n",
            "\n"
          ]
        },
        {
          "output_type": "stream",
          "name": "stderr",
          "text": [
            "/usr/local/lib/python3.10/dist-packages/sklearn/metrics/_classification.py:1344: UndefinedMetricWarning: Precision is ill-defined and being set to 0.0 in labels with no predicted samples. Use `zero_division` parameter to control this behavior.\n",
            "  _warn_prf(average, modifier, msg_start, len(result))\n"
          ]
        }
      ]
    },
    {
      "cell_type": "code",
      "source": [
        "#Training Naive Bayes Model\n",
        "from sklearn.naive_bayes import GaussianNB\n",
        "naivebayes = GaussianNB()\n",
        "naivebayes.fit(x_train, y_train)\n",
        "nb_prediction= naivebayes.predict(x_test)\n",
        "print(\"Naive Bayes' Accuracy:\", metrics.accuracy_score(y_test, nb_prediction))\n",
        "calculate_additional_metrics('Naive Bayes', y_test, nb_prediction)"
      ],
      "metadata": {
        "colab": {
          "base_uri": "https://localhost:8080/"
        },
        "id": "LaCHNhiUo-QV",
        "outputId": "11a9671d-a4fb-4bc7-9264-edb8ed5a2d72"
      },
      "execution_count": null,
      "outputs": [
        {
          "output_type": "stream",
          "name": "stdout",
          "text": [
            "Naive Bayes' Accuracy: 0.85\n",
            "Naive Bayes - Additional Metrics:\n",
            "Precision: 0.8854960317460318\n",
            "Recall: 0.85\n",
            "F1-Score: 0.8485663320311813\n",
            "\n"
          ]
        }
      ]
    },
    {
      "cell_type": "markdown",
      "source": [
        "### **Prediction For New Patients**"
      ],
      "metadata": {
        "id": "awZNThmw8XOR"
      }
    },
    {
      "cell_type": "code",
      "source": [
        "#New patient data\n",
        "new_patient_data=pd.DataFrame({'Age':[30],'Sex':'F','BP':['NORMAL'],'Cholesterol':['HIGH'],'Na_to_K':[15.0]})"
      ],
      "metadata": {
        "id": "d8WrpTKnpG5y"
      },
      "execution_count": null,
      "outputs": []
    },
    {
      "cell_type": "code",
      "source": [
        "new_patient_data['Sex'] = sex_encoding.fit_transform(new_patient_data['Sex'])\n",
        "new_patient_data['BP'] = BP_encoding.fit_transform(new_patient_data['BP'])\n",
        "new_patient_data['Cholesterol'] = Cholesterol_encoding.fit_transform(new_patient_data['Cholesterol'])\n",
        "print(\"New Patient Data:\")\n",
        "print(new_patient_data)"
      ],
      "metadata": {
        "colab": {
          "base_uri": "https://localhost:8080/"
        },
        "id": "y8ScOJBaprV1",
        "outputId": "5b0b3af8-3e5c-4563-f42d-a8686b57a344"
      },
      "execution_count": null,
      "outputs": [
        {
          "output_type": "stream",
          "name": "stdout",
          "text": [
            "New Patient Data:\n",
            "   Age  Sex  BP  Cholesterol  Na_to_K\n",
            "0   30    0   0            0     15.0\n"
          ]
        }
      ]
    },
    {
      "cell_type": "code",
      "source": [
        "#Use the trained model for predict for the new patient\n",
        "logreg_prediction = logireg.predict(new_patient_data)\n",
        "dt_prediction=dectree.predict(new_patient_data)\n",
        "rf_prediction = ranforest.predict(new_patient_data)\n",
        "knn_prediction = knn.predict(new_patient_data)\n",
        "svm_prediction = svm.predict(new_patient_data)\n",
        "nb_prediction = naivebayes.predict(new_patient_data)\n",
        "print(\"\\nPredictions for the New Patient:\")\n",
        "print(\"Logistic Regression Prediction:\", logreg_prediction[0])\n",
        "print(\"Decision Tree Prediction:\",dt_prediction[0])\n",
        "print(\"Random Forest Prediction:\", rf_prediction[0])\n",
        "print(\"KNN Prediction:\", knn_prediction[0])\n",
        "print(\"SVM Prediction:\", svm_prediction[0])\n",
        "print(\"Naive Bayes Prediction:\", nb_prediction[0])"
      ],
      "metadata": {
        "colab": {
          "base_uri": "https://localhost:8080/"
        },
        "id": "FmvG1Zisp_f8",
        "outputId": "346291d3-7eac-4c49-951f-ce94b08b0ee3"
      },
      "execution_count": null,
      "outputs": [
        {
          "output_type": "stream",
          "name": "stdout",
          "text": [
            "\n",
            "Predictions for the New Patient:\n",
            "Logistic Regression Prediction: drugA\n",
            "Decision Tree Prediction: drugY\n",
            "Random Forest Prediction: drugY\n",
            "KNN Prediction: drugC\n",
            "SVM Prediction: drugY\n",
            "Naive Bayes Prediction: drugA\n"
          ]
        }
      ]
    },
    {
      "cell_type": "code",
      "source": [
        "Decision Tree or Random Forest would be recommended for this drug classification task, given their high accuracy and consistent additional metrics."
      ],
      "metadata": {
        "id": "GZaxDNHZKZVZ"
      },
      "execution_count": null,
      "outputs": []
    }
  ]
}